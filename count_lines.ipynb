{
 "cells": [
  {
   "cell_type": "code",
   "execution_count": 27,
   "metadata": {},
   "outputs": [
    {
     "name": "stdout",
     "output_type": "stream",
     "text": [
      "c:\\Users\\XUDEMING\\OneDrive\\桌面\\web学习\\gpu-platform-vue\\src\n",
      "    App.vue         49 lines\n",
      "    index.css       19 lines\n",
      "    main.js         22 lines\n",
      "c:\\Users\\XUDEMING\\OneDrive\\桌面\\web学习\\gpu-platform-vue\\src\\assets\n",
      "    logo.svg        2 lines\n",
      "c:\\Users\\XUDEMING\\OneDrive\\桌面\\web学习\\gpu-platform-vue\\src\\components\n",
      "    NavBar.vue      40 lines\n",
      "c:\\Users\\XUDEMING\\OneDrive\\桌面\\web学习\\gpu-platform-vue\\src\\router\n",
      "    index.js        71 lines\n",
      "c:\\Users\\XUDEMING\\OneDrive\\桌面\\web学习\\gpu-platform-vue\\src\\stores\n",
      "    http.js         10 lines\n",
      "c:\\Users\\XUDEMING\\OneDrive\\桌面\\web学习\\gpu-platform-vue\\src\\views\n",
      "    Account.vue     11 lines\n",
      "    Console.vue     43 lines\n",
      "    Home.vue        5 lines\n",
      "    Login.vue       37 lines\n",
      "    Market.vue      4 lines\n",
      "    Signup.vue      41 lines\n",
      "c:\\Users\\XUDEMING\\OneDrive\\桌面\\web学习\\gpu-platform-vue\\src\\views\\Console\n",
      "    FileStore.vue   3 lines\n",
      "    Image.vue       3 lines\n",
      "    Instance.vue    3 lines\n",
      "total 363 lines\n"
     ]
    }
   ],
   "source": [
    "# count how many lines of code are there in ./src\n",
    "import os\n",
    "import sys\n",
    "\n",
    "project_folder = os.path.abspath(\"./src\")\n",
    "count = 0\n",
    "for root, dirs, filenames in os.walk(project_folder):\n",
    "    print(root)\n",
    "    for filename in filenames:\n",
    "        print('    ' + filename.ljust(15), end=' ')\n",
    "        local_count = open(\n",
    "            os.path.join(root, filename), encoding=\"utf-8\"\n",
    "        ).read().count('\\n') + 1\n",
    "        count += local_count\n",
    "        print(local_count, 'lines')\n",
    "print('total', count, 'lines')\n"
   ]
  }
 ],
 "metadata": {
  "kernelspec": {
   "display_name": "Python 3",
   "language": "python",
   "name": "python3"
  },
  "language_info": {
   "codemirror_mode": {
    "name": "ipython",
    "version": 3
   },
   "file_extension": ".py",
   "mimetype": "text/x-python",
   "name": "python",
   "nbconvert_exporter": "python",
   "pygments_lexer": "ipython3",
   "version": "3.10.11"
  }
 },
 "nbformat": 4,
 "nbformat_minor": 2
}
